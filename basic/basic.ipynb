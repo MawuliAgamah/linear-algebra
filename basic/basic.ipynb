{
 "cells": [
  {
   "cell_type": "code",
   "execution_count": 2,
   "metadata": {},
   "outputs": [],
   "source": [
    "import numpy as np"
   ]
  },
  {
   "cell_type": "code",
   "execution_count": 122,
   "metadata": {},
   "outputs": [
    {
     "data": {
      "text/plain": [
       "11"
      ]
     },
     "execution_count": 122,
     "metadata": {},
     "output_type": "execute_result"
    }
   ],
   "source": [
    "# Create two matrices \n",
    "\n",
    "\n",
    "A = [[0,1,5],\n",
    "     [1,1,5]]\n",
    "\n",
    "b = [0,1,2]\n",
    "\n",
    "0*1 + 1*1 + 5*2\n",
    "\n",
    "1*0 + 1*1 + 5*2\n"
   ]
  },
  {
   "cell_type": "code",
   "execution_count": null,
   "metadata": {},
   "outputs": [],
   "source": []
  },
  {
   "cell_type": "code",
   "execution_count": 202,
   "metadata": {},
   "outputs": [],
   "source": [
    "# 1. Matrix Vector Multiplication \n",
    "\n",
    "# Doing so in numpy\n",
    "\n",
    "\n",
    "\n",
    "\n",
    "\n",
    "nrows = len(A[0])\n",
    "ncols = len(A)\n",
    "\n",
    "results = {0:[],1:[]}\n",
    "\n",
    "# iterate through each row of the matrix \n",
    "for row in range(len(A)):\n",
    "            # iterate through each item in the vector \n",
    "            for j in range(len(b)):\n",
    "                # run multiplication and add to result list \n",
    "                result = A[row][j] * b[j]\n",
    "                results[row].append(result)\n",
    "\n",
    "        \n",
    "    "
   ]
  },
  {
   "cell_type": "code",
   "execution_count": 203,
   "metadata": {},
   "outputs": [
    {
     "name": "stdout",
     "output_type": "stream",
     "text": [
      "[11, 11]\n"
     ]
    }
   ],
   "source": [
    "c = [sum(results[0]),\n",
    "     sum(results[1])]\n",
    "print(c)"
   ]
  },
  {
   "cell_type": "code",
   "execution_count": 167,
   "metadata": {},
   "outputs": [
    {
     "data": {
      "text/plain": [
       "11"
      ]
     },
     "execution_count": 167,
     "metadata": {},
     "output_type": "execute_result"
    }
   ],
   "source": [
    "sum(results[0])\n",
    "sum(results[1])"
   ]
  },
  {
   "cell_type": "code",
   "execution_count": null,
   "metadata": {},
   "outputs": [],
   "source": [
    "# Create the results dictionairy\n",
    "\n",
    "# "
   ]
  },
  {
   "cell_type": "code",
   "execution_count": 215,
   "metadata": {},
   "outputs": [
    {
     "name": "stdout",
     "output_type": "stream",
     "text": [
      "[137  95 103]\n"
     ]
    }
   ],
   "source": [
    "def matrix_vector_mult(A,b):\n",
    "    # Check matrices can be multiplied\n",
    "    if len(A[0]) != len(b):\n",
    "        raise ValueError(\n",
    "            f\"Cannot multiply a {len(A[0])}x{len(A)} matrix \"\n",
    "            f\"with a {len(b)}-dimensional vector. \"\n",
    "            f\"Matrix columns must equal vector dimensions\"\n",
    "        )\n",
    "    else:\n",
    "        results = {}\n",
    "        for i in range(len(A)):\n",
    "            results[i] = []\n",
    "        \n",
    "        # iterate through each row of the matrix \n",
    "        for row in range(len(A)):\n",
    "                    # iterate through each item in the vector \n",
    "                    for j in range(len(b)):\n",
    "                        # run multiplication and add to result list \n",
    "                        result = A[row][j] * b[j]\n",
    "                        results[row].append(result)\n",
    "        \n",
    "        final_out = []\n",
    "        for k,v in results.items():\n",
    "             x = sum(v)\n",
    "             final_out.append(x)\n",
    "        return np.array(final_out)\n",
    "\n",
    "A = [[0,1,5,12,9],\n",
    "     [1,1,5,5,9],\n",
    "     [1,3,5,6,9]]\n",
    "\n",
    "b = [0,1,2,6,6]\n",
    "\n",
    "output = matrix_vector_mult(A,b)\n",
    "print(output)"
   ]
  },
  {
   "cell_type": "code",
   "execution_count": 216,
   "metadata": {},
   "outputs": [
    {
     "data": {
      "text/plain": [
       "array([137,  95, 103])"
      ]
     },
     "execution_count": 216,
     "metadata": {},
     "output_type": "execute_result"
    }
   ],
   "source": [
    "# check \n",
    "\n",
    "A = np.array(A)\n",
    "\n",
    "b = np.array(b)\n",
    "A.dot(b)"
   ]
  },
  {
   "cell_type": "code",
   "execution_count": 196,
   "metadata": {},
   "outputs": [],
   "source": [
    "test = {}\n",
    "for i in range(len(A)):\n",
    "    test[i]=[]"
   ]
  },
  {
   "cell_type": "code",
   "execution_count": 197,
   "metadata": {},
   "outputs": [
    {
     "data": {
      "text/plain": [
       "{0: [], 1: []}"
      ]
     },
     "execution_count": 197,
     "metadata": {},
     "output_type": "execute_result"
    }
   ],
   "source": [
    "test\n"
   ]
  },
  {
   "cell_type": "code",
   "execution_count": 94,
   "metadata": {},
   "outputs": [],
   "source": [
    "results = {0:[],1:[]}\n",
    "\n",
    "for matrix_row in range(len(A)):\n",
    "    # iterate each item in the row of the matix \n",
    "    for vec in b:\n",
    "        for matrix_a_int in A[matrix_row]:\n",
    "            results[matrix_row].append(vec*matrix_a_int)\n",
    "\n"
   ]
  },
  {
   "cell_type": "code",
   "execution_count": null,
   "metadata": {},
   "outputs": [
    {
     "data": {
      "text/plain": [
       "{0: [0, 0, 0, 0, 1, 5, 0, 2, 10], 1: [0, 0, 0, 1, 1, 5, 2, 2, 10]}"
      ]
     },
     "execution_count": 104,
     "metadata": {},
     "output_type": "execute_result"
    }
   ],
   "source": [
    "results[]"
   ]
  },
  {
   "cell_type": "code",
   "execution_count": 102,
   "metadata": {},
   "outputs": [
    {
     "data": {
      "text/plain": [
       "18"
      ]
     },
     "execution_count": 102,
     "metadata": {},
     "output_type": "execute_result"
    }
   ],
   "source": [
    "\n",
    "# result matrix will have same number of rows as the first matrix \n",
    "# and the same number of columns as the second \n",
    "sum(results[0])\n"
   ]
  },
  {
   "cell_type": "code",
   "execution_count": 103,
   "metadata": {},
   "outputs": [
    {
     "data": {
      "text/plain": [
       "21"
      ]
     },
     "execution_count": 103,
     "metadata": {},
     "output_type": "execute_result"
    }
   ],
   "source": [
    "sum(results[1])"
   ]
  },
  {
   "cell_type": "code",
   "execution_count": 100,
   "metadata": {},
   "outputs": [
    {
     "name": "stdout",
     "output_type": "stream",
     "text": [
      "[11 11]\n"
     ]
    }
   ],
   "source": [
    "\n",
    "A = np.array([[0,1,5],\n",
    "     [1,1,5]])\n",
    "\n",
    "b = np.array([0,1,2])\n",
    "\n",
    "print(A.dot(b))\n",
    "\n"
   ]
  },
  {
   "cell_type": "code",
   "execution_count": null,
   "metadata": {},
   "outputs": [],
   "source": [
    "def matrix_transpose(A,B):\n",
    "    pass"
   ]
  },
  {
   "cell_type": "code",
   "execution_count": null,
   "metadata": {},
   "outputs": [],
   "source": [
    "def matrix_determinant(A,B):\n",
    "    pass "
   ]
  }
 ],
 "metadata": {
  "kernelspec": {
   "display_name": ".venv",
   "language": "python",
   "name": "python3"
  },
  "language_info": {
   "codemirror_mode": {
    "name": "ipython",
    "version": 3
   },
   "file_extension": ".py",
   "mimetype": "text/x-python",
   "name": "python",
   "nbconvert_exporter": "python",
   "pygments_lexer": "ipython3",
   "version": "3.9.6"
  }
 },
 "nbformat": 4,
 "nbformat_minor": 2
}
