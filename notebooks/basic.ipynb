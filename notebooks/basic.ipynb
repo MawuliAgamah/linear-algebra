{
 "cells": [
  {
   "cell_type": "code",
   "execution_count": 3,
   "metadata": {},
   "outputs": [],
   "source": [
    "import numpy as np"
   ]
  },
  {
   "cell_type": "code",
   "execution_count": 5,
   "metadata": {},
   "outputs": [
    {
     "ename": "KeyError",
     "evalue": "2",
     "output_type": "error",
     "traceback": [
      "\u001b[0;31m---------------------------------------------------------------------------\u001b[0m",
      "\u001b[0;31mKeyError\u001b[0m                                  Traceback (most recent call last)",
      "Cell \u001b[0;32mIn[5], line 22\u001b[0m\n\u001b[1;32m     19\u001b[0m \u001b[38;5;28;01mfor\u001b[39;00m j \u001b[38;5;129;01min\u001b[39;00m \u001b[38;5;28mrange\u001b[39m(\u001b[38;5;28mlen\u001b[39m(b)):\n\u001b[1;32m     20\u001b[0m     \u001b[38;5;66;03m# run multiplication and add to result list \u001b[39;00m\n\u001b[1;32m     21\u001b[0m     result \u001b[38;5;241m=\u001b[39m A[row][j] \u001b[38;5;241m*\u001b[39m b[j]\n\u001b[0;32m---> 22\u001b[0m     \u001b[43mresults\u001b[49m\u001b[43m[\u001b[49m\u001b[43mrow\u001b[49m\u001b[43m]\u001b[49m\u001b[38;5;241m.\u001b[39mappend(result)\n",
      "\u001b[0;31mKeyError\u001b[0m: 2"
     ]
    }
   ],
   "source": [
    "# 1. Matrix Vector Multiplication \n",
    "\n",
    "# Doing so in numpy\n",
    "\n",
    "A = [[0,1,5],\n",
    "     [1,1,5],\n",
    "     [1,3,5]]\n",
    "\n",
    "b = [0,1,2]\n",
    "\n",
    "nrows = len(A[0])\n",
    "ncols = len(A)\n",
    "\n",
    "results = {0:[],1:[]}\n",
    "\n",
    "# iterate through each row of the matrix \n",
    "for row in range(len(A)):\n",
    "            # iterate through each item in the vector \n",
    "            for j in range(len(b)):\n",
    "                # run multiplication and add to result list \n",
    "                result = A[row][j] * b[j]\n",
    "                results[row].append(result)\n",
    "\n",
    "        \n",
    "    "
   ]
  },
  {
   "cell_type": "code",
   "execution_count": 6,
   "metadata": {},
   "outputs": [
    {
     "name": "stdout",
     "output_type": "stream",
     "text": [
      "[11, 11]\n"
     ]
    }
   ],
   "source": [
    "c = [sum(results[0]),\n",
    "     sum(results[1])]\n",
    "print(c)"
   ]
  },
  {
   "cell_type": "code",
   "execution_count": 7,
   "metadata": {},
   "outputs": [
    {
     "data": {
      "text/plain": [
       "11"
      ]
     },
     "execution_count": 7,
     "metadata": {},
     "output_type": "execute_result"
    }
   ],
   "source": [
    "sum(results[0])\n",
    "sum(results[1])"
   ]
  },
  {
   "cell_type": "code",
   "execution_count": 8,
   "metadata": {},
   "outputs": [
    {
     "name": "stdout",
     "output_type": "stream",
     "text": [
      "[137  95 103]\n"
     ]
    }
   ],
   "source": [
    "def matrix_vector_mult(A,b):\n",
    "    # Check matrices can be multiplied\n",
    "    if len(A[0]) != len(b):\n",
    "        raise ValueError(\n",
    "            f\"Cannot multiply a {len(A[0])}x{len(A)} matrix \"\n",
    "            f\"with a {len(b)}-dimensional vector. \"\n",
    "            f\"Matrix columns must equal vector dimensions\"\n",
    "        )\n",
    "    else:\n",
    "        results = {}\n",
    "        for i in range(len(A)):\n",
    "            results[i] = []\n",
    "        \n",
    "        # iterate through each row of the matrix \n",
    "        for row in range(len(A)):\n",
    "                    # iterate through each item in the vector \n",
    "                    for j in range(len(b)):\n",
    "                        # run multiplication and add to result list \n",
    "                        result = A[row][j] * b[j]\n",
    "                        results[row].append(result)\n",
    "        \n",
    "        final_out = []\n",
    "        for k,v in results.items():\n",
    "             x = sum(v)\n",
    "             final_out.append(x)\n",
    "        return np.array(final_out)\n",
    "\n",
    "A = [[0,1,5,12,9],\n",
    "     [1,1,5,5,9],\n",
    "     [1,3,5,6,9]]\n",
    "\n",
    "b = [0,1,2,6,6]\n",
    "\n",
    "output = matrix_vector_mult(A,b)\n",
    "print(output)"
   ]
  },
  {
   "cell_type": "code",
   "execution_count": 9,
   "metadata": {},
   "outputs": [
    {
     "data": {
      "text/plain": [
       "array([137,  95, 103])"
      ]
     },
     "execution_count": 9,
     "metadata": {},
     "output_type": "execute_result"
    }
   ],
   "source": [
    "# check with numpy\n",
    "A = np.array(A)\n",
    "b = np.array(b)\n",
    "A.dot(b)"
   ]
  },
  {
   "cell_type": "markdown",
   "metadata": {},
   "source": [
    "### 2. Matrix Addition and subtraction"
   ]
  },
  {
   "cell_type": "code",
   "execution_count": 10,
   "metadata": {},
   "outputs": [
    {
     "data": {
      "text/plain": [
       "[[0, 4, 7], [0, 4, 8], [0, 2, 9]]"
      ]
     },
     "execution_count": 10,
     "metadata": {},
     "output_type": "execute_result"
    }
   ],
   "source": [
    "A = [[0,1,3],[0,0,5],[0,1,4]]\n",
    "B = [[0,3,4],[0,4,3],[0,1,5]]\n",
    "\n",
    "\n",
    "# initialise an empty matrix of the same shape as the two input matrices\n",
    "rows = len(A)\n",
    "n_cols = len(A[0])\n",
    "\n",
    "results_matrix = []\n",
    "for i in range(rows):\n",
    "    row = [0]*n_cols \n",
    "    results_matrix.append(row)\n",
    "\n",
    "\n",
    "results_matrix = [[0]*n_cols for _ in range(rows)]\n",
    "\n",
    "operation = 'add'\n",
    "\n",
    "for idx,i in enumerate(A):\n",
    "    for idx_r , _ in enumerate(i):\n",
    "       if operation == 'add':\n",
    "        results_matrix[idx][idx_r] =  A[idx][idx_r]+B[idx][idx_r]\n",
    "       else:\n",
    "        results_matrix[idx][idx_r] =  A[idx][idx_r]-B[idx][idx_r]\n",
    "          \n",
    "results_matrix"
   ]
  },
  {
   "cell_type": "code",
   "execution_count": 11,
   "metadata": {},
   "outputs": [
    {
     "data": {
      "text/plain": [
       "0"
      ]
     },
     "execution_count": 11,
     "metadata": {},
     "output_type": "execute_result"
    }
   ],
   "source": [
    "\n",
    "\n",
    "rows = len(A)\n",
    "cols = len(A[0])\n",
    "\n",
    "results_matrix = []\n",
    "for i in range(rows):\n",
    "    # make zero rows \n",
    "    zeored_row = [0]*cols \n",
    "    results_matrix.append(zeored_row)\n",
    "\n",
    "results_matrix[0][1]\n"
   ]
  },
  {
   "cell_type": "code",
   "execution_count": 12,
   "metadata": {},
   "outputs": [
    {
     "data": {
      "text/plain": [
       "[0, 0, 0, 0, 0]"
      ]
     },
     "execution_count": 12,
     "metadata": {},
     "output_type": "execute_result"
    }
   ],
   "source": [
    "[0]*5"
   ]
  },
  {
   "cell_type": "code",
   "execution_count": 93,
   "metadata": {},
   "outputs": [
    {
     "name": "stdout",
     "output_type": "stream",
     "text": [
      "[[0 0 1]\n",
      " [1 0 3]\n",
      " [3 5 5]\n",
      " [5 6 6]]\n"
     ]
    }
   ],
   "source": [
    "A = [[0,1,3,5],[0,0,5,6],[1,3,5,6]]\n",
    "\n",
    "# Create the 0'd output matrix , when transposing a matrix, the rows will become the columns \n",
    "n_rows = len(A)\n",
    "n_cols = len(A[0])\n",
    "\n",
    "results_matrix = []\n",
    "for _ in range(n_cols):\n",
    "    row = [0] * n_rows  # Initialize a row with n_rows zeros\n",
    "    results_matrix.append(row)\n",
    "\n",
    "\n",
    "for row_idx,row in enumerate(A): # iterate over the rows of the matrix\n",
    "    for col_idx in range(len(A[0])):\n",
    "        results_matrix[col_idx][row_idx] = A[row_idx][col_idx]\n",
    "\n",
    "\n",
    "\n",
    "print(np.array(results_matrix))"
   ]
  },
  {
   "cell_type": "code",
   "execution_count": 95,
   "metadata": {},
   "outputs": [
    {
     "data": {
      "text/plain": [
       "array([[0, 0, 1],\n",
       "       [1, 0, 3],\n",
       "       [3, 5, 5],\n",
       "       [5, 6, 6]])"
      ]
     },
     "execution_count": 95,
     "metadata": {},
     "output_type": "execute_result"
    }
   ],
   "source": [
    "A_np = np.array(A)\n",
    "A_np.transpose()"
   ]
  },
  {
   "cell_type": "code",
   "execution_count": 82,
   "metadata": {},
   "outputs": [
    {
     "name": "stdout",
     "output_type": "stream",
     "text": [
      "[[0, 0, 1], [1, 0, 3], [3, 5, 5], [5, 6, 6]]\n"
     ]
    }
   ],
   "source": [
    "\n"
   ]
  },
  {
   "cell_type": "code",
   "execution_count": null,
   "metadata": {},
   "outputs": [],
   "source": []
  },
  {
   "cell_type": "markdown",
   "metadata": {},
   "source": [
    "Visualisations"
   ]
  },
  {
   "cell_type": "code",
   "execution_count": 23,
   "metadata": {},
   "outputs": [
    {
     "data": {
      "image/png": "[encoded data removed]",
      "text/plain": [
       "<Figure size 640x480 with 1 Axes>"
      ]
     },
     "metadata": {},
     "output_type": "display_data"
    }
   ],
   "source": [
    "import numpy as np\n",
    "import matplotlib.pyplot as plt\n",
    "\n",
    "# Create a 2D array (matrix)\n",
    "matrix = np.array([[1, 2, 3],\n",
    "                   [4, 5, 6],\n",
    "                   [7, 8, 9]])\n",
    "\n",
    "U, V = np.meshgrid(1, 3)\n",
    " \n",
    "fig, ax = plt.subplots()\n",
    "q = ax.quiver(0,5,U, V)\n",
    " \n",
    "\n",
    "plt.show()"
   ]
  },
  {
   "cell_type": "code",
   "execution_count": null,
   "metadata": {},
   "outputs": [],
   "source": []
  }
 ],
 "metadata": {
  "kernelspec": {
   "display_name": ".venv",
   "language": "python",
   "name": "python3"
  },
  "language_info": {
   "codemirror_mode": {
    "name": "ipython",
    "version": 3
   },
   "file_extension": ".py",
   "mimetype": "text/x-python",
   "name": "python",
   "nbconvert_exporter": "python",
   "pygments_lexer": "ipython3",
   "version": "3.9.6"
  }
 },
 "nbformat": 4,
 "nbformat_minor": 2
}
